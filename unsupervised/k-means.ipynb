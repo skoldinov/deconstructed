{
 "cells": [
  {
   "cell_type": "code",
   "execution_count": 1,
   "id": "0422cd6a",
   "metadata": {
    "ExecuteTime": {
     "end_time": "2023-05-05T19:19:53.148469Z",
     "start_time": "2023-05-05T19:19:52.648397Z"
    }
   },
   "outputs": [],
   "source": [
    "import matplotlib.pyplot as plt\n",
    "import numpy as np\n",
    "from copy import deepcopy\n",
    "from typing import List, Iterable\n",
    "\n",
    "# Using karpathy/micrograd to work with gradients. Thanks Andrej!  \n",
    "from micrograd.engine import Value"
   ]
  },
  {
   "cell_type": "code",
   "execution_count": 2,
   "id": "3a2e0aef",
   "metadata": {
    "ExecuteTime": {
     "end_time": "2023-05-05T19:19:53.164466Z",
     "start_time": "2023-05-05T19:19:53.149494Z"
    }
   },
   "outputs": [],
   "source": [
    "# Generate some clustery-looking data\n",
    "target_slope = 0.5\n",
    "target_intercept = 3\n",
    "\n",
    "np.random.seed(2023)\n",
    "rng = np.random.default_rng(2023)\n",
    "\n",
    "X1_c1 = rng.normal(loc=4.0, scale=1.3, size=1000)\n",
    "X2_c1 = rng.normal(loc=9.0, scale=2.0, size=1000)\n",
    "\n",
    "X1_c2 = rng.normal(loc=10.0, scale=1.3, size=1000)\n",
    "X2_c2 = rng.normal(loc=4.0, scale=1.3, size=1000)\n",
    "\n",
    "X1_c3 = rng.normal(loc=11.0, scale=1.0, size=1000)\n",
    "X2_c3 = rng.normal(loc=11.0, scale=1.0, size=1000)"
   ]
  },
  {
   "cell_type": "code",
   "execution_count": 3,
   "id": "e5e72ee6",
   "metadata": {
    "ExecuteTime": {
     "end_time": "2023-05-05T19:19:53.180461Z",
     "start_time": "2023-05-05T19:19:53.165461Z"
    }
   },
   "outputs": [],
   "source": [
    "# Concatenate all of the datapoints together \n",
    "c1 = np.column_stack([X1_c1, X2_c1])\n",
    "c2 = np.column_stack([X1_c2, X2_c2])\n",
    "c3 = np.column_stack([X1_c3, X2_c3])\n",
    "data = np.concatenate([c1, c2, c3])"
   ]
  },
  {
   "cell_type": "code",
   "execution_count": 4,
   "id": "39ef227c",
   "metadata": {
    "ExecuteTime": {
     "end_time": "2023-05-05T19:19:53.355699Z",
     "start_time": "2023-05-05T19:19:53.203018Z"
    }
   },
   "outputs": [
    {
     "data": {
      "image/png": "[encoded data removed]",
      "text/plain": [
       "<Figure size 432x288 with 1 Axes>"
      ]
     },
     "metadata": {
      "needs_background": "light"
     },
     "output_type": "display_data"
    }
   ],
   "source": [
    "plt.scatter(X1_c1, X2_c1)\n",
    "plt.scatter(X1_c2, X2_c2, c='red')\n",
    "plt.scatter(X1_c3, X2_c3, c='green')\n",
    "plt.xlim(0, 15)\n",
    "plt.ylim(0, 15)\n",
    "plt.show()"
   ]
  },
  {
   "cell_type": "code",
   "execution_count": 5,
   "id": "2f884e7d",
   "metadata": {
    "ExecuteTime": {
     "end_time": "2023-05-05T19:19:53.387036Z",
     "start_time": "2023-05-05T19:19:53.375637Z"
    }
   },
   "outputs": [],
   "source": [
    "class KMeans:\n",
    "    def __init__(self, k):\n",
    "        self.k = k\n",
    "        self.centroids = []\n",
    "        self.tol = 1e-3\n",
    "        \n",
    "    # Euclidean distance between 2 points\n",
    "    def distance(self, \n",
    "                 coord1: Iterable,\n",
    "                 coord2: Iterable) -> Value:\n",
    "        assert len(coord1) == len(coord2)\n",
    "        result = 0\n",
    "        for dim in range(len(coord1)):\n",
    "            result += (coord1[dim] - coord2[dim])**2 \n",
    "        return result\n",
    "    \n",
    "    # Use current parameters to produce predictions\n",
    "    def fit(self, data: Iterable) -> Iterable:\n",
    "        # initialize centroids from random data points  \n",
    "        idx = np.random.randint(low=0, high=data.shape[0], size=self.k)\n",
    "        self.centroids = data[idx]\n",
    "        converged = False\n",
    "        \n",
    "        iterations = {}\n",
    "        iter_counter = 0\n",
    "        while not converged: \n",
    "            # Assign each sample to the closest cluster\n",
    "            labels = []\n",
    "            for data_point in data: \n",
    "                dist = []\n",
    "                for centroid in self.centroids:\n",
    "                    dist.append(self.distance(data_point, centroid))\n",
    "                labels.append(np.argmin(dist))\n",
    "                \n",
    "            # Get indices of data points assigned to each cluster\n",
    "            cluster_dict = {} \n",
    "            for idx, item in enumerate(labels):\n",
    "                if item in cluster_dict.keys():\n",
    "                    cluster_dict[item].append(idx) \n",
    "                else: \n",
    "                    cluster_dict[item] = [idx]\n",
    "                \n",
    "            # Compute the new centroids by taking the average of all data points assigned to that cluster\n",
    "            changes = []\n",
    "            for idx, centroid_coords in enumerate(self.centroids):\n",
    "                new_coords = np.mean(data[cluster_dict[idx]], axis=0)\n",
    "                changes.append(self.distance(self.centroids[idx], new_coords))\n",
    "                self.centroids[idx] = np.mean(data[cluster_dict[idx]], axis=0)\n",
    "            print(changes)\n",
    "            \n",
    "            iterations[iter_counter] = deepcopy(self.centroids)\n",
    "            iter_counter += 1 \n",
    "                \n",
    "            # Stop the computation if the centroid moved less than tol                     \n",
    "            if all(change < self.tol for change in changes):\n",
    "                converged = True\n",
    "                \n",
    "        return iterations"
   ]
  },
  {
   "cell_type": "code",
   "execution_count": 6,
   "id": "89fca96e",
   "metadata": {
    "ExecuteTime": {
     "end_time": "2023-05-05T19:19:53.542148Z",
     "start_time": "2023-05-05T19:19:53.537147Z"
    }
   },
   "outputs": [],
   "source": [
    "kmeans = KMeans(k=3)"
   ]
  },
  {
   "cell_type": "code",
   "execution_count": 7,
   "id": "8d17dfd3",
   "metadata": {
    "ExecuteTime": {
     "end_time": "2023-05-05T19:19:53.842033Z",
     "start_time": "2023-05-05T19:19:53.716532Z"
    }
   },
   "outputs": [
    {
     "name": "stdout",
     "output_type": "stream",
     "text": [
      "[2.1584645629778194, 6.911075911258241, 1.1159919808581906]\n",
      "[0.009289299090252773, 0.09164936896667862, 0.01800499060523414]\n",
      "[0.0002824455363018173, 0.0003531855977459725, 8.454998502593437e-05]\n"
     ]
    },
    {
     "data": {
      "text/plain": [
       "{0: array([[ 4.03747827,  8.9857515 ],\n",
       "        [10.04273357,  4.27579384],\n",
       "        [11.10073602, 11.16502982]]),\n",
       " 1: array([[ 3.98260886,  9.06498941],\n",
       "        [ 9.95993549,  3.98460001],\n",
       "        [11.03293149, 11.0492389 ]]),\n",
       " 2: array([[ 3.97703121,  9.08084297],\n",
       "        [ 9.94307517,  3.97629848],\n",
       "        [11.0283827 , 11.04124775]])}"
      ]
     },
     "execution_count": 7,
     "metadata": {},
     "output_type": "execute_result"
    }
   ],
   "source": [
    "kmeans.fit(data)"
   ]
  },
  {
   "cell_type": "code",
   "execution_count": 8,
   "id": "2caea2e5",
   "metadata": {
    "ExecuteTime": {
     "end_time": "2023-05-05T19:19:53.904626Z",
     "start_time": "2023-05-05T19:19:53.892624Z"
    }
   },
   "outputs": [
    {
     "data": {
      "text/plain": [
       "array([[ 3.97703121,  9.08084297],\n",
       "       [ 9.94307517,  3.97629848],\n",
       "       [11.0283827 , 11.04124775]])"
      ]
     },
     "execution_count": 8,
     "metadata": {},
     "output_type": "execute_result"
    }
   ],
   "source": [
    "kmeans.centroids"
   ]
  },
  {
   "cell_type": "code",
   "execution_count": 9,
   "id": "6e200daa",
   "metadata": {
    "ExecuteTime": {
     "end_time": "2023-05-05T19:19:54.220331Z",
     "start_time": "2023-05-05T19:19:54.075750Z"
    }
   },
   "outputs": [
    {
     "data": {
      "image/png": "[encoded data removed]",
      "text/plain": [
       "<Figure size 432x288 with 1 Axes>"
      ]
     },
     "metadata": {
      "needs_background": "light"
     },
     "output_type": "display_data"
    }
   ],
   "source": [
    "plt.scatter(X1_c1, X2_c1)\n",
    "plt.scatter(X1_c2, X2_c2, c='red')\n",
    "plt.scatter(X1_c3, X2_c3, c='green')\n",
    "plt.scatter(kmeans.centroids[:, 0],  kmeans.centroids[:, 1], c='black')\n",
    "plt.xlim(0, 15)\n",
    "plt.ylim(0, 15)\n",
    "plt.show()"
   ]
  },
  {
   "cell_type": "code",
   "execution_count": null,
   "id": "b1a82b2e",
   "metadata": {},
   "outputs": [],
   "source": []
  },
  {
   "cell_type": "code",
   "execution_count": null,
   "id": "919943f2",
   "metadata": {},
   "outputs": [],
   "source": []
  }
 ],
 "metadata": {
  "kernelspec": {
   "display_name": "Python 3 (ipykernel)",
   "language": "python",
   "name": "python3"
  },
  "language_info": {
   "codemirror_mode": {
    "name": "ipython",
    "version": 3
   },
   "file_extension": ".py",
   "mimetype": "text/x-python",
   "name": "python",
   "nbconvert_exporter": "python",
   "pygments_lexer": "ipython3",
   "version": "3.9.7"
  }
 },
 "nbformat": 4,
 "nbformat_minor": 5
}
