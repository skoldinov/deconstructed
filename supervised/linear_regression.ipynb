{
 "cells": [
  {
   "cell_type": "code",
   "execution_count": 1,
   "id": "94f52531",
   "metadata": {
    "ExecuteTime": {
     "end_time": "2023-04-07T20:28:20.390787Z",
     "start_time": "2023-04-07T20:28:19.890582Z"
    }
   },
   "outputs": [],
   "source": [
    "import matplotlib.pyplot as plt\n",
    "import numpy as np\n",
    "from typing import List, Iterable\n",
    "\n",
    "# Using karpathy/micrograd to work with gradients. Thanks Andrej!  \n",
    "from micrograd.engine import Value"
   ]
  },
  {
   "cell_type": "code",
   "execution_count": 2,
   "id": "a1556f5f",
   "metadata": {
    "ExecuteTime": {
     "end_time": "2023-04-07T20:28:20.406815Z",
     "start_time": "2023-04-07T20:28:20.393730Z"
    }
   },
   "outputs": [],
   "source": [
    "# Set target values for the regression and generate data around them\n",
    "target_slope = 0.5\n",
    "target_intercept = 3\n",
    "\n",
    "np.random.seed(2023)\n",
    "rng = np.random.default_rng(2023)\n",
    "\n",
    "X = rng.normal(loc=8.0, scale=2.0, size=1000)\n",
    "noise = rng.normal(loc=0.0, scale=0.2, size=1000)\n",
    "\n",
    "Y = X * target_slope + target_intercept + noise"
   ]
  },
  {
   "cell_type": "code",
   "execution_count": 3,
   "id": "10fa36d9",
   "metadata": {
    "ExecuteTime": {
     "end_time": "2023-04-07T20:28:20.545769Z",
     "start_time": "2023-04-07T20:28:20.407721Z"
    }
   },
   "outputs": [
    {
     "data": {
      "image/png": "[encoded data removed]",
      "text/plain": [
       "<Figure size 432x288 with 1 Axes>"
      ]
     },
     "metadata": {
      "needs_background": "light"
     },
     "output_type": "display_data"
    }
   ],
   "source": [
    "plt.scatter(X, Y)\n",
    "plt.xlim(0, 15)\n",
    "plt.ylim(0, 15)\n",
    "plt.show()"
   ]
  },
  {
   "cell_type": "code",
   "execution_count": 4,
   "id": "6feb0bd0",
   "metadata": {
    "ExecuteTime": {
     "end_time": "2023-04-07T20:28:20.561809Z",
     "start_time": "2023-04-07T20:28:20.546764Z"
    }
   },
   "outputs": [],
   "source": [
    "class LinearRegression:\n",
    "    def __init__(self):\n",
    "        self.coeffs = []\n",
    "        self.intercept = Value(0.0)\n",
    "        self.is_fit = False\n",
    "        \n",
    "    # Set gradients to zero     \n",
    "    def zero_grad(self):\n",
    "        for param in self.coeffs + [self.intercept]:\n",
    "            param.grad = 0\n",
    "        \n",
    "    # Loss (MSE) for a single target\n",
    "    def loss(self, \n",
    "             Y_true: Iterable,\n",
    "             Y_pred: Iterable) -> Value:\n",
    "        result = 0\n",
    "        for y_true, y_pred in zip(Y_true, Y_pred):\n",
    "            result += (y_true - y_pred)**2 \n",
    "        return result\n",
    "    \n",
    "    # Use current parameters to produce predictions\n",
    "    def predict(self, X: Iterable) -> Iterable:\n",
    "        if not self.is_fit:\n",
    "            raise Exception('Model has not been fit yet!')\n",
    "        preds = []\n",
    "        for x in X:\n",
    "            y = 0\n",
    "            if not isinstance(x, list):\n",
    "                x = [x]\n",
    "            for idx, val in enumerate(x):\n",
    "                y += self.coeffs[idx] * val\n",
    "            y += self.intercept\n",
    "            preds.append(y)\n",
    "        y = np.array(y)\n",
    "        return preds        \n",
    "    \n",
    "    def fit(self,\n",
    "            X: Iterable,\n",
    "            Y: Iterable,\n",
    "            n_iter = 5000,\n",
    "            batch_size = 100,\n",
    "            eps = 1e-05,\n",
    "            lr = 0.0001):\n",
    "        X = np.array(X)\n",
    "        Y = np.array(Y)  \n",
    "        self.is_fit = True\n",
    "        # Populate self.coeffs \n",
    "        n_coeffs = X.shape[1] if len(X.shape) > 1 else 1\n",
    "        self.coeffs = [Value(0.0) for _ in range(n_coeffs)]\n",
    "        \n",
    "        # Gradient descent optimization (not Stochastic!) \n",
    "        for num in range(n_iter):\n",
    "            # Generate batch\n",
    "            batch_indices = np.random.randint(0, X.shape[0], size=batch_size)\n",
    "            X_batch = X[batch_indices]\n",
    "            Y_batch = Y[batch_indices]\n",
    "            \n",
    "            # Forward pass, get predictions and calculate loss\n",
    "            preds = self.predict(X_batch)\n",
    "            loss_value = self.loss(preds, Y_batch)\n",
    "            if num % 100 == 0:\n",
    "                print(f'{num}: loss = {round(loss_value.data, 3)}')\n",
    "                \n",
    "            # Remove gradients from the previous backward passes\n",
    "            self.zero_grad()\n",
    "            loss_value.backward()\n",
    "            steps = []\n",
    "            \n",
    "            # \"Nudge\" every parameter in the opposite direction from gradient\n",
    "            for p in self.coeffs + [self.intercept]:\n",
    "                step = lr * p.grad\n",
    "                p.data -= step\n",
    "                steps.append(step)\n",
    "                \n",
    "            if np.all(np.abs(steps) <= eps):\n",
    "                print('Early stop')\n",
    "                break"
   ]
  },
  {
   "cell_type": "code",
   "execution_count": null,
   "id": "4f5ab9ad",
   "metadata": {
    "ExecuteTime": {
     "start_time": "2023-04-07T20:28:20.612Z"
    }
   },
   "outputs": [
    {
     "name": "stdout",
     "output_type": "stream",
     "text": [
      "0: loss = 5082.11\n",
      "100: loss = 37.882\n",
      "200: loss = 31.102\n",
      "300: loss = 31.226\n",
      "400: loss = 18.445\n",
      "500: loss = 17.739\n",
      "600: loss = 15.128\n",
      "700: loss = 14.971\n",
      "800: loss = 13.182\n",
      "900: loss = 11.466\n",
      "1000: loss = 9.563\n",
      "1100: loss = 6.487\n",
      "1200: loss = 9.549\n",
      "1300: loss = 7.607\n",
      "1400: loss = 6.611\n",
      "1500: loss = 7.5\n"
     ]
    }
   ],
   "source": [
    "lr = LinearRegression()\n",
    "lr.fit(X, Y)\n",
    "# lr.coeffs.data, lr.intercept.data"
   ]
  },
  {
   "cell_type": "code",
   "execution_count": null,
   "id": "a678ee07",
   "metadata": {
    "ExecuteTime": {
     "start_time": "2023-04-07T20:28:20.808Z"
    }
   },
   "outputs": [],
   "source": [
    "print(f'Target slope: {target_slope}')\n",
    "print(f'Result slope: {round(lr.coeffs[0].data, 3)} ')\n",
    "\n",
    "print(f'Target intercept: {target_intercept}')\n",
    "print(f'Result intercept: {round(lr.intercept.data, 3)} ')"
   ]
  },
  {
   "cell_type": "code",
   "execution_count": null,
   "id": "94811e92",
   "metadata": {
    "ExecuteTime": {
     "start_time": "2023-04-07T20:28:21.142Z"
    }
   },
   "outputs": [],
   "source": [
    "plt.scatter(X, Y)\n",
    "plt.xlim(0, 15)\n",
    "plt.ylim(0, 15)\n",
    "x_vals = np.array(plt.gca().get_xlim())\n",
    "y_vals = lr.intercept.data + lr.coeffs[0].data * x_vals\n",
    "plt.plot(x_vals, y_vals, 'r--')\n",
    "plt.show()"
   ]
  },
  {
   "cell_type": "code",
   "execution_count": null,
   "id": "c0c9cf2e",
   "metadata": {},
   "outputs": [],
   "source": []
  }
 ],
 "metadata": {
  "kernelspec": {
   "display_name": "Python 3 (ipykernel)",
   "language": "python",
   "name": "python3"
  },
  "language_info": {
   "codemirror_mode": {
    "name": "ipython",
    "version": 3
   },
   "file_extension": ".py",
   "mimetype": "text/x-python",
   "name": "python",
   "nbconvert_exporter": "python",
   "pygments_lexer": "ipython3",
   "version": "3.9.7"
  }
 },
 "nbformat": 4,
 "nbformat_minor": 5
}
