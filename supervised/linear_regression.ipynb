{
 "cells": [
  {
   "cell_type": "code",
   "execution_count": 1,
   "id": "94f52531",
   "metadata": {
    "ExecuteTime": {
     "end_time": "2023-05-10T20:04:11.421434Z",
     "start_time": "2023-05-10T20:04:10.936545Z"
    }
   },
   "outputs": [],
   "source": [
    "import matplotlib.pyplot as plt\n",
    "import numpy as np\n",
    "from typing import List, Iterable\n",
    "\n",
    "# Using an extended version of Karpathy's micrograd library to work with gradients. Thanks Andrej!  \n",
    "from micrograd.engine import Value"
   ]
  },
  {
   "cell_type": "code",
   "execution_count": 9,
   "id": "b0f723bd",
   "metadata": {
    "ExecuteTime": {
     "end_time": "2023-05-10T20:05:08.013935Z",
     "start_time": "2023-05-10T20:05:08.003970Z"
    }
   },
   "outputs": [],
   "source": [
    "# Set target values for the regression and generate data around them\n",
    "# We would expect the model outputs to be close to these values: \n",
    "target_slope = 0.5\n",
    "target_intercept = 3\n",
    "\n",
    "np.random.seed(2023)\n",
    "rng = np.random.default_rng(2023)\n",
    "\n",
    "X = rng.normal(loc=8.0, scale=2.0, size=300)\n",
    "noise = rng.normal(loc=0.0, scale=0.5, size=300)\n",
    "\n",
    "Y = X * target_slope + target_intercept + noise"
   ]
  },
  {
   "cell_type": "code",
   "execution_count": 10,
   "id": "9a5d62a9",
   "metadata": {
    "ExecuteTime": {
     "end_time": "2023-05-10T20:05:08.591718Z",
     "start_time": "2023-05-10T20:05:08.477115Z"
    }
   },
   "outputs": [
    {
     "data": {
      "image/png": "[encoded data removed]",
      "text/plain": [
       "<Figure size 432x288 with 1 Axes>"
      ]
     },
     "metadata": {
      "needs_background": "light"
     },
     "output_type": "display_data"
    }
   ],
   "source": [
    "plt.scatter(X, Y)\n",
    "plt.xlim(0, 15)\n",
    "plt.ylim(0, 15)\n",
    "plt.show()"
   ]
  },
  {
   "cell_type": "code",
   "execution_count": 11,
   "id": "6feb0bd0",
   "metadata": {
    "ExecuteTime": {
     "end_time": "2023-05-10T20:05:09.368913Z",
     "start_time": "2023-05-10T20:05:09.356750Z"
    }
   },
   "outputs": [],
   "source": [
    "class LinearRegression:\n",
    "    def __init__(self):\n",
    "        self.coeffs = []\n",
    "        self.intercept = Value(0.0)\n",
    "        \n",
    "    # Set gradients to zero     \n",
    "    def zero_grad(self):\n",
    "        for param in self.coeffs + [self.intercept]:\n",
    "            param.grad = 0\n",
    "        \n",
    "    # Loss (MSE) for a single target\n",
    "    def loss(self, \n",
    "             Y_true: Iterable,\n",
    "             Y_pred: Iterable) -> Value:\n",
    "        result = 0\n",
    "        for y_true, y_pred in zip(Y_true, Y_pred):\n",
    "            result += (y_true - y_pred)**2 \n",
    "        return result\n",
    "    \n",
    "    # Use current parameters to produce predictions\n",
    "    def predict(self, X: Iterable) -> Iterable:\n",
    "        preds = []\n",
    "        for x in X:\n",
    "            y = 0\n",
    "            if not isinstance(x, list):\n",
    "                x = [x]\n",
    "            for idx, val in enumerate(x):\n",
    "                y += self.coeffs[idx] * val\n",
    "            y += self.intercept\n",
    "            preds.append(y)\n",
    "        y = np.array(y)\n",
    "        return preds        \n",
    "    \n",
    "    def fit(self,\n",
    "            X: Iterable,\n",
    "            Y: Iterable,\n",
    "            n_iter = 5000,\n",
    "            batch_size = 100,\n",
    "            eps = 1e-05,\n",
    "            lr = 0.0001):\n",
    "        X = np.array(X)\n",
    "        Y = np.array(Y)  \n",
    "        \n",
    "        # Populate self.coeffs \n",
    "        n_coeffs = X.shape[1] if len(X.shape) > 1 else 1\n",
    "        self.coeffs = [Value(0.0) for _ in range(n_coeffs)]\n",
    "        \n",
    "        # Gradient descent optimization (not Stochastic!) \n",
    "        for num in range(n_iter):\n",
    "            # Generate batch\n",
    "            batch_indices = np.random.randint(0, X.shape[0], size=batch_size)\n",
    "            X_batch = X[batch_indices]\n",
    "            Y_batch = Y[batch_indices]\n",
    "            \n",
    "            # Forward pass, get predictions and calculate loss\n",
    "            preds = self.predict(X_batch)\n",
    "            loss_value = self.loss(Y_batch, preds)\n",
    "            if num % 100 == 0:\n",
    "                print(f'{num}: loss = {round(loss_value.data, 3)}')\n",
    "                \n",
    "            # Remove gradients from the previous backward passes\n",
    "            self.zero_grad()\n",
    "            \n",
    "            # Perform backward pass to get new gradients\n",
    "            loss_value.backward()\n",
    "            steps = []\n",
    "            \n",
    "            # \"Nudge\" every parameter in the opposite direction from gradient\n",
    "            for p in self.coeffs + [self.intercept]:\n",
    "                step = lr * p.grad\n",
    "                p.data -= step\n",
    "                steps.append(step)\n",
    "                \n",
    "            if np.all(np.abs(steps) <= eps):\n",
    "                print('Early stop')\n",
    "                break"
   ]
  },
  {
   "cell_type": "code",
   "execution_count": 12,
   "id": "834cf197",
   "metadata": {
    "ExecuteTime": {
     "end_time": "2023-05-10T20:05:45.327254Z",
     "start_time": "2023-05-10T20:05:09.553084Z"
    }
   },
   "outputs": [
    {
     "name": "stdout",
     "output_type": "stream",
     "text": [
      "0: loss = 5138.31\n",
      "100: loss = 64.487\n",
      "200: loss = 49.043\n",
      "300: loss = 40.348\n",
      "400: loss = 50.749\n",
      "500: loss = 37.429\n",
      "600: loss = 39.902\n",
      "700: loss = 28.343\n",
      "800: loss = 30.444\n",
      "900: loss = 22.945\n",
      "1000: loss = 23.752\n",
      "1100: loss = 25.018\n",
      "1200: loss = 24.256\n",
      "1300: loss = 25.921\n",
      "1400: loss = 25.463\n",
      "1500: loss = 24.059\n",
      "1600: loss = 25.622\n",
      "1700: loss = 23.312\n",
      "1800: loss = 22.677\n",
      "1900: loss = 21.046\n",
      "2000: loss = 19.122\n",
      "2100: loss = 23.063\n",
      "2200: loss = 17.616\n",
      "2300: loss = 24.591\n",
      "2400: loss = 18.024\n",
      "2500: loss = 18.527\n",
      "2600: loss = 20.531\n",
      "2700: loss = 26.626\n",
      "2800: loss = 23.7\n",
      "2900: loss = 25.097\n",
      "3000: loss = 21.314\n",
      "3100: loss = 18.82\n",
      "3200: loss = 20.47\n",
      "3300: loss = 18.859\n",
      "3400: loss = 19.955\n",
      "3500: loss = 21.565\n",
      "3600: loss = 25.343\n",
      "3700: loss = 23.544\n",
      "3800: loss = 16.775\n",
      "3900: loss = 23.725\n",
      "4000: loss = 19.516\n",
      "4100: loss = 21.319\n",
      "4200: loss = 20.678\n",
      "4300: loss = 24.14\n",
      "4400: loss = 17.708\n",
      "4500: loss = 25.873\n",
      "4600: loss = 24.438\n",
      "4700: loss = 25.373\n",
      "4800: loss = 21.078\n",
      "4900: loss = 22.626\n"
     ]
    }
   ],
   "source": [
    "lr = LinearRegression()\n",
    "lr.fit(X, Y)\n",
    "# lr.coeffs.data, lr.intercept.data"
   ]
  },
  {
   "cell_type": "code",
   "execution_count": 13,
   "id": "91d04f59",
   "metadata": {
    "ExecuteTime": {
     "end_time": "2023-05-10T20:05:45.343412Z",
     "start_time": "2023-05-10T20:05:45.328204Z"
    }
   },
   "outputs": [
    {
     "name": "stdout",
     "output_type": "stream",
     "text": [
      "Target slope: 0.5\n",
      "Result slope: 0.513 \n",
      "Target intercept: 3\n",
      "Result intercept: 2.895 \n"
     ]
    }
   ],
   "source": [
    "print(f'Target slope: {target_slope}')\n",
    "print(f'Result slope: {round(lr.coeffs[0].data, 3)} ')\n",
    "\n",
    "print(f'Target intercept: {target_intercept}')\n",
    "print(f'Result intercept: {round(lr.intercept.data, 3)} ')"
   ]
  },
  {
   "cell_type": "code",
   "execution_count": 14,
   "id": "65ab8c82",
   "metadata": {
    "ExecuteTime": {
     "end_time": "2023-05-10T20:05:45.471075Z",
     "start_time": "2023-05-10T20:05:45.346345Z"
    }
   },
   "outputs": [
    {
     "data": {
      "image/png": "[encoded data removed]",
      "text/plain": [
       "<Figure size 432x288 with 1 Axes>"
      ]
     },
     "metadata": {
      "needs_background": "light"
     },
     "output_type": "display_data"
    }
   ],
   "source": [
    "plt.scatter(X, Y)\n",
    "plt.xlim(0, 15)\n",
    "plt.ylim(0, 15)\n",
    "x_vals = np.array(plt.gca().get_xlim())\n",
    "y_vals = lr.intercept.data + lr.coeffs[0].data * x_vals\n",
    "plt.plot(x_vals, y_vals, 'r--')\n",
    "plt.show()"
   ]
  }
 ],
 "metadata": {
  "kernelspec": {
   "display_name": "Python 3 (ipykernel)",
   "language": "python",
   "name": "python3"
  },
  "language_info": {
   "codemirror_mode": {
    "name": "ipython",
    "version": 3
   },
   "file_extension": ".py",
   "mimetype": "text/x-python",
   "name": "python",
   "nbconvert_exporter": "python",
   "pygments_lexer": "ipython3",
   "version": "3.9.7"
  }
 },
 "nbformat": 4,
 "nbformat_minor": 5
}
