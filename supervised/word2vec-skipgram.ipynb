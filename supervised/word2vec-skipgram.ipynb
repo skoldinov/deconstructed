{
 "cells": [
  {
   "cell_type": "code",
   "execution_count": 43,
   "id": "69c8cf40",
   "metadata": {
    "ExecuteTime": {
     "end_time": "2023-06-03T08:21:26.145061Z",
     "start_time": "2023-06-03T08:21:26.133063Z"
    }
   },
   "outputs": [],
   "source": [
    "import re\n",
    "import more_itertools\n",
    "import numpy as np\n",
    "import pandas as pd\n",
    "import matplotlib.pyplot as plt\n",
    "from typing import List, Iterable\n",
    "\n",
    "from sklearn.datasets import fetch_20newsgroups\n",
    "from sklearn.feature_extraction.text import CountVectorizer\n",
    "\n",
    "# Using an extended version of Karpathy's micrograd library to work with gradients. Thanks Andrej!  \n",
    "import torch\n",
    "# from torch.nn import Func\n",
    "# from micrograd.engine import Value"
   ]
  },
  {
   "cell_type": "code",
   "execution_count": 2,
   "id": "fb913ef8",
   "metadata": {
    "ExecuteTime": {
     "end_time": "2023-06-03T07:19:47.436039Z",
     "start_time": "2023-06-03T07:19:47.213442Z"
    }
   },
   "outputs": [],
   "source": [
    "news_df_train = fetch_20newsgroups()"
   ]
  },
  {
   "cell_type": "code",
   "execution_count": 3,
   "id": "5eea2f90",
   "metadata": {
    "ExecuteTime": {
     "end_time": "2023-06-03T07:19:50.804890Z",
     "start_time": "2023-06-03T07:19:47.436978Z"
    }
   },
   "outputs": [],
   "source": [
    "news_df_train['data_preprocessed'] = []\n",
    "\n",
    "for document in news_df_train['data']:\n",
    "    # Remove all the special characters\n",
    "    document = re.sub(r'\\W', ' ', str(document))    \n",
    "    # remove all single characters\n",
    "    document = re.sub(r'\\s+[a-zA-Z]\\s+', ' ', document)\n",
    "    # Remove single characters from the start\n",
    "    document = re.sub(r'\\^[a-zA-Z]\\s+', ' ', document) \n",
    "    # Substituting multiple spaces with single space\n",
    "    document = re.sub(r'\\s+', ' ', document, flags=re.I)\n",
    "    # Removing prefixed 'b'\n",
    "    document = re.sub(r'^b\\s+', '', document)\n",
    "    # Converting to Lowercase\n",
    "    document = document.lower()\n",
    "    # Lemmatization\n",
    "    document = document.split()\n",
    "    news_df_train['data_preprocessed'].append(document)"
   ]
  },
  {
   "cell_type": "code",
   "execution_count": 4,
   "id": "d9568f92",
   "metadata": {
    "ExecuteTime": {
     "end_time": "2023-06-03T07:19:50.820359Z",
     "start_time": "2023-06-03T07:19:50.805828Z"
    }
   },
   "outputs": [
    {
     "data": {
      "text/plain": [
       "dict_keys(['data', 'filenames', 'target_names', 'target', 'DESCR', 'data_preprocessed'])"
      ]
     },
     "execution_count": 4,
     "metadata": {},
     "output_type": "execute_result"
    }
   ],
   "source": [
    "news_df_train.keys()"
   ]
  },
  {
   "cell_type": "code",
   "execution_count": 5,
   "id": "e42768e9",
   "metadata": {
    "ExecuteTime": {
     "end_time": "2023-06-03T07:19:50.836367Z",
     "start_time": "2023-06-03T07:19:50.821357Z"
    }
   },
   "outputs": [],
   "source": [
    "# news_df_train['target_names']"
   ]
  },
  {
   "cell_type": "code",
   "execution_count": 68,
   "id": "a8b20d1f",
   "metadata": {
    "ExecuteTime": {
     "end_time": "2023-06-03T09:20:23.765834Z",
     "start_time": "2023-06-03T09:20:23.749801Z"
    }
   },
   "outputs": [
    {
     "ename": "SyntaxError",
     "evalue": "unexpected EOF while parsing (1438545216.py, line 72)",
     "output_type": "error",
     "traceback": [
      "\u001b[1;36m  Input \u001b[1;32mIn [68]\u001b[1;36m\u001b[0m\n\u001b[1;33m    \u001b[0m\n\u001b[1;37m    ^\u001b[0m\n\u001b[1;31mSyntaxError\u001b[0m\u001b[1;31m:\u001b[0m unexpected EOF while parsing\n"
     ]
    }
   ],
   "source": [
    "class Word2Vec():\n",
    "    def __init__(self, \n",
    "                 sentences: List[List[str]],\n",
    "                 embedding_dim: int,\n",
    "                 learning_rate: float,\n",
    "                 batch_size: int,\n",
    "                 window_size: int\n",
    "                ):\n",
    "        self.embedding_dim = embedding_dim\n",
    "        self.window_size = window_size\n",
    "        # Dicts that store word-to-index and index-to-word pairs  \n",
    "        self.wtoi = {}\n",
    "        self.itow = {}\n",
    "        self.words = []\n",
    "        \n",
    "        self.generate_dictionary(sentences)\n",
    "        self.OOV_index = self.wtoi['<OOV>']\n",
    "        self.vocab_size = len(self.wtoi)\n",
    "\n",
    "        # Initiate context vector and word vector matrices randomly \n",
    "        self.context_vectors = torch.rand(self.vocab_size, embedding_dim)\n",
    "        self.word_vectors = torch.rand(self.vocab_size, embedding_dim)\n",
    "\n",
    "    # Iterate over corpus and fill dictionary\n",
    "    def generate_dictionary(self,\n",
    "                            sentences: List[List[str]]):\n",
    "        count = 0 \n",
    "        for row in sentences:\n",
    "            for word in row:\n",
    "                word = word.lower()\n",
    "                self.words.append(word)\n",
    "                \n",
    "                if self.wtoi.get(word) == None:\n",
    "                    self.wtoi.update({word : count})\n",
    "                    self.itow.update({count : word})\n",
    "                    count += 1\n",
    "        # Let's add an out-of-vocabulary token\n",
    "        self.wtoi['<OOV>'] = count\n",
    "        self.itow[count] = '<OOV>'\n",
    "                    \n",
    "    # Generate pairs of target + context word indices\n",
    "    # TODO: slightly janky and uses external library\n",
    "    def get_training_pairs(self, \n",
    "                           words: List[str]):\n",
    "        training_pairs = []\n",
    "        for beginning, middle, end in more_itertools.windowed_complete(words, 1):\n",
    "            target_word = middle[0]\n",
    "            context_words = list(beginning)[word_idx - window_size:] + list(end)[:window_size]\n",
    "            print(target_word)\n",
    "            print(context_words)\n",
    "            target_word_idx = self.wtoi.get(target_word, self.OOV_index)\n",
    "            context_word_idx = [self.wtoi.get(word, self.OOV_index) for word in context_words]\n",
    "            training_pairs.append((target_word_idx, context_word_idx))\n",
    "        return training_pairs\n",
    "            \n",
    "                \n",
    "#     def get_vector(self, word):\n",
    "        \n",
    "    # Train by adjusting the word vectors \n",
    "    def train(self):\n",
    "        for epoch in range(10):\n",
    "            for sentence in sentences: \n",
    "                # Generate training pairs for one sentence:\n",
    "                training_pairs = self.get_training_pairs(sentence)\n",
    "                \n",
    "                # Retrieve word vectors \n",
    "            \n",
    "    \n",
    "    \n",
    "#     def predict(self,\n",
    "#                 sample: Iterable):\n",
    "        "
   ]
  },
  {
   "cell_type": "code",
   "execution_count": 28,
   "id": "5325c46e",
   "metadata": {
    "ExecuteTime": {
     "end_time": "2023-06-03T07:49:31.282462Z",
     "start_time": "2023-06-03T07:49:31.260017Z"
    }
   },
   "outputs": [],
   "source": [
    "params = {\n",
    "    'sentences': news_df_train['data_preprocessed'][:10],\n",
    "    'embedding_dim': 300,\n",
    "    'window_size': 5,\n",
    "    'learning_rate': 0.01,\n",
    "    'batch_size': 10\n",
    "}\n",
    "\n",
    "w2v = Word2Vec(**params)"
   ]
  },
  {
   "cell_type": "code",
   "execution_count": 33,
   "id": "9876a575",
   "metadata": {
    "ExecuteTime": {
     "end_time": "2023-06-03T07:49:51.767734Z",
     "start_time": "2023-06-03T07:49:51.756840Z"
    }
   },
   "outputs": [],
   "source": [
    "# w2v.word_vectors"
   ]
  },
  {
   "cell_type": "code",
   "execution_count": 71,
   "id": "e55d6786",
   "metadata": {
    "ExecuteTime": {
     "end_time": "2023-06-03T09:41:23.096793Z",
     "start_time": "2023-06-03T09:41:23.087537Z"
    }
   },
   "outputs": [],
   "source": [
    "xd = torch.rand(5, 5)"
   ]
  },
  {
   "cell_type": "code",
   "execution_count": 74,
   "id": "b6b629c9",
   "metadata": {
    "ExecuteTime": {
     "end_time": "2023-06-03T09:44:29.636821Z",
     "start_time": "2023-06-03T09:44:29.619536Z"
    }
   },
   "outputs": [
    {
     "data": {
      "text/plain": [
       "tensor([[0.2788, 0.8303, 0.3449, 0.4046, 0.4605],\n",
       "        [0.8064, 0.5478, 0.7821, 0.8906, 0.7632],\n",
       "        [0.1692, 0.2587, 0.1243, 0.5823, 0.3693],\n",
       "        [0.3709, 0.1493, 0.4037, 0.7917, 0.6281],\n",
       "        [0.0344, 0.1555, 0.2248, 0.9646, 0.4851]])"
      ]
     },
     "execution_count": 74,
     "metadata": {},
     "output_type": "execute_result"
    }
   ],
   "source": [
    "xd"
   ]
  },
  {
   "cell_type": "code",
   "execution_count": 76,
   "id": "9e712e03",
   "metadata": {
    "ExecuteTime": {
     "end_time": "2023-06-03T09:44:36.642502Z",
     "start_time": "2023-06-03T09:44:36.625051Z"
    }
   },
   "outputs": [
    {
     "data": {
      "text/plain": [
       "tensor([[0.2788, 0.8303, 0.3449, 0.4046, 0.4605],\n",
       "        [0.2788, 0.8303, 0.3449, 0.4046, 0.4605],\n",
       "        [0.8064, 0.5478, 0.7821, 0.8906, 0.7632]])"
      ]
     },
     "execution_count": 76,
     "metadata": {},
     "output_type": "execute_result"
    }
   ],
   "source": [
    "xd[[0, 0, 1]]"
   ]
  },
  {
   "cell_type": "code",
   "execution_count": null,
   "id": "8891f4bf",
   "metadata": {},
   "outputs": [],
   "source": []
  }
 ],
 "metadata": {
  "kernelspec": {
   "display_name": "Python 3 (ipykernel)",
   "language": "python",
   "name": "python3"
  },
  "language_info": {
   "codemirror_mode": {
    "name": "ipython",
    "version": 3
   },
   "file_extension": ".py",
   "mimetype": "text/x-python",
   "name": "python",
   "nbconvert_exporter": "python",
   "pygments_lexer": "ipython3",
   "version": "3.9.7"
  }
 },
 "nbformat": 4,
 "nbformat_minor": 5
}
