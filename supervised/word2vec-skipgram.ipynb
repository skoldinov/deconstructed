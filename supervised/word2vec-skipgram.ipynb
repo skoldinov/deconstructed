{
 "cells": [
  {
   "cell_type": "code",
   "execution_count": 1,
   "id": "69c8cf40",
   "metadata": {
    "ExecuteTime": {
     "end_time": "2023-05-06T15:45:59.144095Z",
     "start_time": "2023-05-06T15:45:54.803435Z"
    }
   },
   "outputs": [],
   "source": [
    "import numpy as np\n",
    "import pandas as pd\n",
    "import matplotlib.pyplot as plt\n",
    "from typing import List, Iterable\n",
    "\n",
    "from sklearn.datasets import fetch_20newsgroups\n",
    "from sklearn.feature_extraction.text import CountVectorizer\n",
    "\n",
    "# Using an extended version of Karpathy's micrograd library to work with gradients. Thanks Andrej!  \n",
    "from micrograd.engine import Value"
   ]
  },
  {
   "cell_type": "code",
   "execution_count": null,
   "id": "a8b20d1f",
   "metadata": {},
   "outputs": [],
   "source": [
    "class Word2Vec():\n",
    "    def __init__(self, \n",
    "                 vocab_size: int, \n",
    "                 embedding_dim: int,\n",
    "                 learning_rate: float,\n",
    "                 batch_size: int,\n",
    "                 window_size: int\n",
    "                ):\n",
    "        self.embedding_dim = embedding_dim\n",
    "        self.vocab_size = vocab_size\n",
    "        # Dicts that store word-to-index and index-to-word pairs  \n",
    "        self.wtoi = {}\n",
    "        self.itow = {}\n",
    "        # Generate a random context matrix \n",
    "        self.context_matrix = np.random.rand(vocabulary_size, embedding_dim)\n",
    "        \n",
    "    # Train by adjusting the word vectors \n",
    "    def train(self,\n",
    "             coords1: Iterable,\n",
    "             coords2: Iterable):\n",
    "        assert len(coords1) == len(coords2)\n",
    "        return np.sum([(coords1[i] - coords2[i])**2 for i in range(len(coords1))])\n",
    "    \n",
    "    \n",
    "    def predict(self,\n",
    "                sample: Iterable):\n",
    "        distances = [] \n",
    "        for idx, item in enumerate(self.data):\n",
    "            distances.append((idx, self.dist(item, sample))) \n",
    "        distances.sort(key=lambda x: x[1])\n",
    "        k_indices = [x[0] for x in distances[:self.k]]\n",
    "        k_labels = self.labels[k_indices]\n",
    "        pred = mode(k_labels)\n",
    "        return pred"
   ]
  },
  {
   "cell_type": "code",
   "execution_count": null,
   "id": "5325c46e",
   "metadata": {},
   "outputs": [],
   "source": []
  },
  {
   "cell_type": "code",
   "execution_count": null,
   "id": "23a8eaac",
   "metadata": {},
   "outputs": [],
   "source": []
  },
  {
   "cell_type": "code",
   "execution_count": null,
   "id": "c373495b",
   "metadata": {},
   "outputs": [],
   "source": []
  },
  {
   "cell_type": "code",
   "execution_count": null,
   "id": "91546974",
   "metadata": {},
   "outputs": [],
   "source": []
  }
 ],
 "metadata": {
  "kernelspec": {
   "display_name": "Python 3 (ipykernel)",
   "language": "python",
   "name": "python3"
  },
  "language_info": {
   "codemirror_mode": {
    "name": "ipython",
    "version": 3
   },
   "file_extension": ".py",
   "mimetype": "text/x-python",
   "name": "python",
   "nbconvert_exporter": "python",
   "pygments_lexer": "ipython3",
   "version": "3.9.7"
  }
 },
 "nbformat": 4,
 "nbformat_minor": 5
}
