{
 "cells": [
  {
   "cell_type": "code",
   "execution_count": 1,
   "id": "df637d6a",
   "metadata": {
    "ExecuteTime": {
     "end_time": "2023-04-29T19:59:05.475675Z",
     "start_time": "2023-04-29T19:59:04.549384Z"
    }
   },
   "outputs": [],
   "source": [
    "import matplotlib.pyplot as plt\n",
    "import numpy as np\n",
    "from typing import List, Iterable\n",
    "\n",
    "# Using an extended version of Karpathy's micrograd library to work with gradients. Thanks Andrej!  \n",
    "from micrograd.engine import Value"
   ]
  },
  {
   "cell_type": "code",
   "execution_count": null,
   "id": "4a78f4fb",
   "metadata": {},
   "outputs": [],
   "source": [
    "# Set target values for the regression and generate data around them\n",
    "target_slope = 0.5\n",
    "target_intercept = 3\n",
    "\n",
    "np.random.seed(2023)\n",
    "rng = np.random.default_rng(2023)\n",
    "\n",
    "X = rng.normal(loc=8.0, scale=2.0, size=1000)\n",
    "noise = rng.normal(loc=0.0, scale=0.2, size=1000)\n",
    "\n",
    "Y = X * target_slope + target_intercept + noise"
   ]
  },
  {
   "cell_type": "code",
   "execution_count": null,
   "id": "53880035",
   "metadata": {},
   "outputs": [],
   "source": []
  },
  {
   "cell_type": "code",
   "execution_count": null,
   "id": "14313e9a",
   "metadata": {},
   "outputs": [],
   "source": []
  },
  {
   "cell_type": "code",
   "execution_count": null,
   "id": "2c8b9081",
   "metadata": {},
   "outputs": [],
   "source": []
  },
  {
   "cell_type": "code",
   "execution_count": null,
   "id": "66f7af1c",
   "metadata": {},
   "outputs": [],
   "source": []
  },
  {
   "cell_type": "code",
   "execution_count": null,
   "id": "2f3cab46",
   "metadata": {},
   "outputs": [],
   "source": []
  },
  {
   "cell_type": "code",
   "execution_count": null,
   "id": "2d9591f2",
   "metadata": {},
   "outputs": [],
   "source": []
  }
 ],
 "metadata": {
  "kernelspec": {
   "display_name": "Python 3 (ipykernel)",
   "language": "python",
   "name": "python3"
  },
  "language_info": {
   "codemirror_mode": {
    "name": "ipython",
    "version": 3
   },
   "file_extension": ".py",
   "mimetype": "text/x-python",
   "name": "python",
   "nbconvert_exporter": "python",
   "pygments_lexer": "ipython3",
   "version": "3.9.7"
  }
 },
 "nbformat": 4,
 "nbformat_minor": 5
}
