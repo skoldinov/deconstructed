{
 "cells": [
  {
   "cell_type": "code",
   "execution_count": 56,
   "id": "9b89ad00",
   "metadata": {
    "ExecuteTime": {
     "end_time": "2023-04-29T21:10:50.384308Z",
     "start_time": "2023-04-29T21:10:50.367055Z"
    }
   },
   "outputs": [],
   "source": [
    "import numpy as np\n",
    "import pandas as pd\n",
    "from statistics import mode\n",
    "import matplotlib.pyplot as plt\n",
    "from typing import List, Iterable\n",
    "\n",
    "# Using an extended version of Karpathy's micrograd library to work with gradients. Thanks Andrej!  \n",
    "from micrograd.engine import Value"
   ]
  },
  {
   "cell_type": "code",
   "execution_count": 57,
   "id": "77fdd96c",
   "metadata": {
    "ExecuteTime": {
     "end_time": "2023-04-29T21:10:50.726815Z",
     "start_time": "2023-04-29T21:10:50.718407Z"
    }
   },
   "outputs": [],
   "source": [
    "# Set target values for the regression and generate data around them\n",
    "np.random.seed(2023)\n",
    "rng = np.random.default_rng(2023)\n",
    "\n",
    "class_size = 150\n",
    "\n",
    "X1_red = rng.normal(loc=4.0, scale=2.0, size=class_size)\n",
    "X2_red = rng.normal(loc=10.0, scale=2.0, size=class_size)\n",
    "\n",
    "X1_blue = rng.normal(loc=12.0, scale=2.0, size=class_size)\n",
    "X2_blue = rng.normal(loc=4.0, scale=2.0, size=class_size)\n",
    "\n",
    "X1_green = rng.normal(loc=4.0, scale=2.0, size=class_size)\n",
    "X2_green = rng.normal(loc=4.0, scale=2.0, size=class_size)"
   ]
  },
  {
   "cell_type": "code",
   "execution_count": 58,
   "id": "00625e7f",
   "metadata": {
    "ExecuteTime": {
     "end_time": "2023-04-29T21:10:51.072413Z",
     "start_time": "2023-04-29T21:10:50.889624Z"
    }
   },
   "outputs": [
    {
     "data": {
      "image/png": "[encoded data removed]",
      "text/plain": [
       "<Figure size 432x288 with 1 Axes>"
      ]
     },
     "metadata": {
      "needs_background": "light"
     },
     "output_type": "display_data"
    }
   ],
   "source": [
    "plt.scatter(X1_red, X2_red, c='red')\n",
    "plt.scatter(X1_blue, X2_blue, c='blue')\n",
    "plt.scatter(X1_green, X2_green, c='green')\n",
    "plt.xlim(0, 15)\n",
    "plt.ylim(0, 15)\n",
    "plt.legend(['red', 'blue', 'green'])\n",
    "plt.show()"
   ]
  },
  {
   "cell_type": "code",
   "execution_count": 59,
   "id": "6d59ba01",
   "metadata": {
    "ExecuteTime": {
     "end_time": "2023-04-29T21:10:51.089640Z",
     "start_time": "2023-04-29T21:10:51.073334Z"
    }
   },
   "outputs": [
    {
     "data": {
      "text/plain": [
       "(450, 2)"
      ]
     },
     "execution_count": 59,
     "metadata": {},
     "output_type": "execute_result"
    }
   ],
   "source": [
    "labels = np.array(['red'] * class_size + ['blue'] * class_size + ['green'] * class_size)\n",
    "\n",
    "red_features = np.hstack([X1_red.reshape(class_size, 1), X2_red.reshape(class_size, 1)])\n",
    "blue_features = np.hstack([X1_blue.reshape(class_size, 1), X2_blue.reshape(class_size, 1)])\n",
    "green_features = np.hstack([X1_green.reshape(class_size, 1), X2_green.reshape(class_size, 1)])\n",
    "\n",
    "data = np.concatenate([red_features, blue_features, green_features])\n",
    "data.shape"
   ]
  },
  {
   "cell_type": "code",
   "execution_count": 60,
   "id": "d215ac4a",
   "metadata": {
    "ExecuteTime": {
     "end_time": "2023-04-29T21:10:51.418419Z",
     "start_time": "2023-04-29T21:10:51.399899Z"
    }
   },
   "outputs": [
    {
     "data": {
      "text/plain": [
       "array([ 5.20344259, 10.64416154])"
      ]
     },
     "execution_count": 60,
     "metadata": {},
     "output_type": "execute_result"
    }
   ],
   "source": [
    "data[0]"
   ]
  },
  {
   "cell_type": "code",
   "execution_count": 61,
   "id": "43f9263b",
   "metadata": {
    "ExecuteTime": {
     "end_time": "2023-04-29T21:10:51.601726Z",
     "start_time": "2023-04-29T21:10:51.589913Z"
    }
   },
   "outputs": [
    {
     "data": {
      "text/plain": [
       "'red'"
      ]
     },
     "execution_count": 61,
     "metadata": {},
     "output_type": "execute_result"
    }
   ],
   "source": [
    "labels[0]"
   ]
  },
  {
   "cell_type": "code",
   "execution_count": 63,
   "id": "4e0d8dc2",
   "metadata": {
    "ExecuteTime": {
     "end_time": "2023-04-29T21:11:09.010012Z",
     "start_time": "2023-04-29T21:11:09.000890Z"
    }
   },
   "outputs": [],
   "source": [
    "class KNNClassifier():\n",
    "    def __init__(self, \n",
    "                 k: int,\n",
    "                 data: np.array,\n",
    "                 labels: np.array):\n",
    "        self.k = k\n",
    "        self.data = data\n",
    "        self.labels = labels\n",
    "        \n",
    "    def dist(self,\n",
    "             coords1: Iterable,\n",
    "             coords2: Iterable):\n",
    "        assert len(coords1) == len(coords2)\n",
    "        return np.sum([(coords1[i] - coords2[i])**2 for i in range(len(coords1))])\n",
    "    \n",
    "    def predict(self,\n",
    "                sample: Iterable):\n",
    "        distances = [] \n",
    "        for idx, item in enumerate(self.data):\n",
    "            distances.append((idx, self.dist(item, sample))) \n",
    "        distances.sort(key=lambda x: x[1])\n",
    "        k_indices = [x[0] for x in distances[:self.k]]\n",
    "        k_labels = self.labels[k_indices]\n",
    "        pred = mode(k_labels)\n",
    "        return pred"
   ]
  },
  {
   "cell_type": "code",
   "execution_count": 64,
   "id": "19527cc4",
   "metadata": {
    "ExecuteTime": {
     "end_time": "2023-04-29T21:11:09.199988Z",
     "start_time": "2023-04-29T21:11:09.184866Z"
    }
   },
   "outputs": [],
   "source": [
    "knn = KNNClassifier(k=3, data=data, labels=labels)"
   ]
  },
  {
   "cell_type": "code",
   "execution_count": 71,
   "id": "3cbabf4a",
   "metadata": {
    "ExecuteTime": {
     "end_time": "2023-04-29T21:13:24.286762Z",
     "start_time": "2023-04-29T21:13:24.266563Z"
    }
   },
   "outputs": [
    {
     "data": {
      "text/plain": [
       "('blue', 'green', 'red')"
      ]
     },
     "execution_count": 71,
     "metadata": {},
     "output_type": "execute_result"
    }
   ],
   "source": [
    "knn.predict([12, 4]), knn.predict([4, 4]), knn.predict([4, 12])"
   ]
  },
  {
   "cell_type": "code",
   "execution_count": null,
   "id": "b5868ba9",
   "metadata": {},
   "outputs": [],
   "source": []
  },
  {
   "cell_type": "code",
   "execution_count": null,
   "id": "f28405aa",
   "metadata": {},
   "outputs": [],
   "source": []
  },
  {
   "cell_type": "code",
   "execution_count": null,
   "id": "02e2f2b3",
   "metadata": {},
   "outputs": [],
   "source": []
  }
 ],
 "metadata": {
  "kernelspec": {
   "display_name": "Python 3 (ipykernel)",
   "language": "python",
   "name": "python3"
  },
  "language_info": {
   "codemirror_mode": {
    "name": "ipython",
    "version": 3
   },
   "file_extension": ".py",
   "mimetype": "text/x-python",
   "name": "python",
   "nbconvert_exporter": "python",
   "pygments_lexer": "ipython3",
   "version": "3.9.7"
  }
 },
 "nbformat": 4,
 "nbformat_minor": 5
}
